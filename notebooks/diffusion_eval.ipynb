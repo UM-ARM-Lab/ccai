{
 "cells": [
  {
   "cell_type": "code",
   "execution_count": 1,
   "metadata": {},
   "outputs": [
    {
     "name": "stdout",
     "output_type": "stream",
     "text": [
      "Importing module 'gym_38' (/home/abhinav/Downloads/IsaacGym_Preview_4_Package/isaacgym/python/isaacgym/_bindings/linux-x86_64/gym_38.so)\n",
      "Setting GYM_USD_PLUG_INFO_PATH to /home/abhinav/Downloads/IsaacGym_Preview_4_Package/isaacgym/python/isaacgym/_bindings/linux-x86_64/usd/plugInfo.json\n",
      "PyTorch version 2.3.1+cu118\n",
      "Device count 1\n",
      "/home/abhinav/Downloads/IsaacGym_Preview_4_Package/isaacgym/python/isaacgym/_bindings/src/gymtorch\n"
     ]
    },
    {
     "name": "stderr",
     "output_type": "stream",
     "text": [
      "Using /home/abhinav/.cache/torch_extensions/py38_cu118 as PyTorch extensions root...\n",
      "Emitting ninja build file /home/abhinav/.cache/torch_extensions/py38_cu118/gymtorch/build.ninja...\n",
      "Building extension module gymtorch...\n",
      "Allowing ninja to set a default number of workers... (overridable by setting the environment variable MAX_JOBS=N)\n"
     ]
    },
    {
     "name": "stdout",
     "output_type": "stream",
     "text": [
      "ninja: no work to do.\n"
     ]
    },
    {
     "name": "stderr",
     "output_type": "stream",
     "text": [
      "Loading extension module gymtorch...\n"
     ]
    },
    {
     "name": "stdout",
     "output_type": "stream",
     "text": [
      "Jupyter environment detected. Enabling Open3D WebVisualizer.\n",
      "[Open3D INFO] WebRTC GUI backend enabled.\n",
      "[Open3D INFO] WebRTCWindowSystem: HTTP handshake server disabled.\n"
     ]
    }
   ],
   "source": [
    "from isaac_victor_envs.utils import get_assets_dir\n",
    "from isaac_victor_envs.tasks.allegro import AllegroScrewdriverTurningEnv\n",
    "# from isaac_victor_envs.tasks.allegro_ros import RosAllegroValveTurningEnv\n",
    "\n",
    "import numpy as np\n",
    "import pickle\n",
    "\n",
    "import torch\n",
    "import time\n",
    "import copy\n",
    "import yaml\n",
    "import pathlib\n",
    "from functools import partial\n",
    "import sys\n",
    "\n",
    "import pytorch_volumetric as pv\n",
    "import pytorch_kinematics as pk\n",
    "import pytorch_kinematics.transforms as tf\n",
    "from torch.func import vmap, jacrev, hessian, jacfwd\n",
    "# import pytorch3d.transforms as tf\n",
    "\n",
    "import matplotlib.pyplot as plt\n",
    "from ccai.utils.allegro_utils import *\n",
    "# from allegro_valve_roll import AllegroValveTurning, AllegroContactProblem, PositionControlConstrainedSVGDMPC, \\\n",
    "#    add_trajectories, add_trajectories_hardware\n",
    "\n",
    "from ccai.allegro_contact import AllegroManipulationProblem, PositionControlConstrainedSVGDMPC, add_trajectories, \\\n",
    "    add_trajectories_hardware\n",
    "from ccai.allegro_screwdriver_problem_diffusion import AllegroScrewdriverDiff\n",
    "from scipy.spatial.transform import Rotation as R\n",
    "\n",
    "# from ccai.mpc.ipopt import IpoptMPC\n",
    "# from ccai.problem import IpoptProblem\n",
    "from ccai.models.trajectory_samplers import TrajectorySampler\n",
    "\n",
    "import matplotlib\n",
    "import matplotlib.pyplot as plt\n",
    "\n",
    "%matplotlib inline"
   ]
  },
  {
   "cell_type": "code",
   "execution_count": 2,
   "metadata": {},
   "outputs": [
    {
     "name": "stdout",
     "output_type": "stream",
     "text": [
      "Not connected to PVD\n",
      "+++ Using GPU PhysX\n",
      "Physics Engine: PhysX\n",
      "Physics Device: cuda:0\n",
      "GPU Pipeline: enabled\n",
      "Using VHACD cache directory '/home/abhinav/.isaacgym/vhacd'\n",
      "Found existing convex decomposition for mesh '/home/abhinav/Documents/git_packages/isaacgym-arm-envs/isaac_victor_envs/assets/xela_models/mesh/allegro/base_ns.stl'\n",
      "Found existing convex decomposition for mesh '/home/abhinav/Documents/git_packages/isaacgym-arm-envs/isaac_victor_envs/assets/xela_models/mesh/allegro/link_1.0.stl'\n",
      "Found existing convex decomposition for mesh '/home/abhinav/Documents/git_packages/isaacgym-arm-envs/isaac_victor_envs/assets/xela_models/mesh/ft_c.stl'\n"
     ]
    }
   ],
   "source": [
    "obj_dof = 3\n",
    "# config = yaml.safe_load(pathlib.Path(f'../examples/config/{sys.argv[1]}.yaml').read_text())\n",
    "config = yaml.safe_load(pathlib.Path(f'../examples/config/allegro_screwdriver_proj_diff_init.yaml').read_text())\n",
    "config['visualize'] = False\n",
    "from tqdm import tqdm\n",
    "\n",
    "if config['mode'] == 'hardware':\n",
    "    env = RosAllegroValveTurningEnv(1, control_mode='joint_impedance',\n",
    "                                    use_cartesian_controller=False,\n",
    "                                    viewer=True,\n",
    "                                    steps_per_action=60,\n",
    "                                    friction_coefficient=1.0,\n",
    "                                    device=config['sim_device'],\n",
    "                                    valve=config['object_type'],\n",
    "                                    video_save_path=img_save_dir,\n",
    "                                    joint_stiffness=config['kp'],\n",
    "                                    fingers=config['fingers'],\n",
    "                                    )\n",
    "else:\n",
    "    if not config['visualize']:\n",
    "        img_save_dir = None\n",
    "\n",
    "    env = AllegroScrewdriverTurningEnv(1, control_mode='joint_impedance',\n",
    "                                        use_cartesian_controller=False,\n",
    "                                        viewer=config['visualize'],\n",
    "                                        steps_per_action=60,\n",
    "                                        friction_coefficient=config['friction_coefficient'] * 1.05,\n",
    "                                        # friction_coefficient=1.0,  # DEBUG ONLY, set the friction very high\n",
    "                                        device=config['sim_device'],\n",
    "                                        video_save_path=img_save_dir,\n",
    "                                        joint_stiffness=config['kp'],\n",
    "                                        fingers=config['fingers'],\n",
    "                                        )\n",
    "\n",
    "sim, gym, viewer = env.get_sim()\n",
    "\n",
    "state = env.get_state()\n",
    "# try:\n",
    "#     while True:\n",
    "#         start = env.get_state()['q'][:, :-1]\n",
    "#         env.step(start)\n",
    "#         print('waiting for you to finish camera adjustment, ctrl-c when done')\n",
    "#         time.sleep(0.1)\n",
    "# except KeyboardInterrupt:\n",
    "#     pass\n",
    "\n",
    "sim_env = None\n",
    "ros_copy_node = None\n",
    "if config['mode'] == 'hardware':\n",
    "    sim_env = env\n",
    "    from hardware.hardware_env import HardwareEnv\n",
    "\n",
    "    env = HardwareEnv(sim_env.default_dof_pos[:, :16], finger_list=['index', 'thumb'], kp=config['kp'])\n",
    "    env.world_trans = sim_env.world_trans\n",
    "    env.joint_stiffness = sim_env.joint_stiffness\n",
    "    env.device = sim_env.device\n",
    "    env.valve_pose = sim_env.valve_pose\n",
    "elif config['mode'] == 'hardware_copy':\n",
    "    from hardware.hardware_env import RosNode\n",
    "\n",
    "    ros_copy_node = RosNode()\n",
    "\n",
    "results = {}\n",
    "\n",
    "# set up the kinematic chain\n",
    "asset = f'{get_assets_dir()}/xela_models/allegro_hand_right.urdf'\n",
    "ee_names = {\n",
    "    'index': 'allegro_hand_hitosashi_finger_finger_0_aftc_base_link',\n",
    "    'middle': 'allegro_hand_naka_finger_finger_1_aftc_base_link',\n",
    "    'ring': 'allegro_hand_kusuri_finger_finger_2_aftc_base_link',\n",
    "    'thumb': 'allegro_hand_oya_finger_3_aftc_base_link',\n",
    "}\n",
    "config['ee_names'] = ee_names\n",
    "config['obj_dof'] = 3\n",
    "\n",
    "screwdriver_asset = f'{get_assets_dir()}/screwdriver/screwdriver.urdf'\n",
    "\n",
    "chain = pk.build_chain_from_urdf(open(asset).read())\n",
    "screwdriver_chain = pk.build_chain_from_urdf(open(screwdriver_asset).read())\n",
    "frame_indices = [chain.frame_to_idx[ee_names[finger]] for finger in config['fingers']]  # combined chain\n",
    "frame_indices = torch.tensor(frame_indices)\n",
    "state2ee_pos = partial(state2ee_pos, fingers=config['fingers'], chain=chain, frame_indices=frame_indices,\n",
    "                        world_trans=env.world_trans)\n",
    "\n",
    "forward_kinematics = partial(chain.forward_kinematics,\n",
    "                                frame_indices=frame_indices)  # full_to= _partial_state = partial(full_to_partial_state, fingers=config['fingers'])\n",
    "partial_to_full_state = partial(partial_to_full_state, fingers=config['fingers'])\n",
    "\n",
    "controller = 'csvgd'\n",
    "goal = - 0.5 * torch.tensor([0, 0, np.pi])\n",
    "# set up params\n",
    "params = config.copy()\n",
    "params.pop('controllers')\n",
    "params.update(config['controllers'][controller])\n",
    "params['controller'] = controller\n",
    "params['valve_goal'] = goal.to(device=params['device'])\n",
    "params['chain'] = chain.to(device=params['device'])\n",
    "object_location = torch.tensor([0, 0, 1.205]).to(\n",
    "    params['device'])  # TODO: confirm if this is the correct location\n",
    "params['object_location'] = object_location\n",
    "\n",
    "num_fingers = len(params['fingers'])\n",
    "state = env.get_state()\n",
    "start = state['q'].reshape(4 * num_fingers + 4).to(device=params['device'])\n",
    "if 'csvgd' in params['controller']:\n",
    "    # index finger is used for stability\n",
    "    if 'index' in params['fingers']:\n",
    "        fingers = params['fingers']\n",
    "    else:\n",
    "        fingers = ['index'] + params['fingers']\n",
    "\n",
    "pregrasp_problem = AllegroScrewdriverDiff(\n",
    "    start=start[:4 * num_fingers + obj_dof],\n",
    "    goal=params['valve_goal'] * 0,\n",
    "    T=params['T'],\n",
    "    chain=params['chain'],\n",
    "    device=params['device'],\n",
    "    object_asset_pos=env.table_pose,\n",
    "    object_location=params['object_location'],\n",
    "    object_type=params['object_type'],\n",
    "    world_trans=env.world_trans,\n",
    "    regrasp_fingers=fingers,\n",
    "    contact_fingers=[],\n",
    "    obj_dof=obj_dof,\n",
    "    obj_joint_dim=1,\n",
    "    optimize_force=params['optimize_force'],\n",
    ")\n",
    "# finger gate index\n",
    "index_regrasp_problem = AllegroScrewdriverDiff(\n",
    "    start=start[:4 * num_fingers + obj_dof],\n",
    "    goal=params['valve_goal'] * 0,\n",
    "    T=params['T'],\n",
    "    chain=params['chain'],\n",
    "    device=params['device'],\n",
    "    object_asset_pos=env.table_pose,\n",
    "    object_location=params['object_location'],\n",
    "    object_type=params['object_type'],\n",
    "    world_trans=env.world_trans,\n",
    "    regrasp_fingers=['index'],\n",
    "    contact_fingers=['middle', 'thumb'],\n",
    "    obj_dof=obj_dof,\n",
    "    obj_joint_dim=1,\n",
    "    optimize_force=params['optimize_force'],\n",
    "    default_dof_pos=env.default_dof_pos[:, :16]\n",
    ")\n",
    "thumb_and_middle_regrasp_problem = AllegroScrewdriverDiff(\n",
    "    start=start[:4 * num_fingers + obj_dof],\n",
    "    goal=params['valve_goal'] * 0,\n",
    "    T=params['T'],\n",
    "    chain=params['chain'],\n",
    "    device=params['device'],\n",
    "    object_asset_pos=env.table_pose,\n",
    "    object_location=params['object_location'],\n",
    "    object_type=params['object_type'],\n",
    "    world_trans=env.world_trans,\n",
    "    contact_fingers=['index'],\n",
    "    regrasp_fingers=['middle', 'thumb'],\n",
    "    obj_dof=obj_dof,\n",
    "    obj_joint_dim=1,\n",
    "    optimize_force=params['optimize_force'],\n",
    "    default_dof_pos=env.default_dof_pos[:, :16]\n",
    ")\n",
    "turn_problem = AllegroScrewdriverDiff(\n",
    "    start=start[:4 * num_fingers + obj_dof],\n",
    "    goal=params['valve_goal'] * 0,\n",
    "    T=params['T'],\n",
    "    chain=params['chain'],\n",
    "    device=params['device'],\n",
    "    object_asset_pos=env.table_pose,\n",
    "    object_location=params['object_location'],\n",
    "    object_type=params['object_type'],\n",
    "    world_trans=env.world_trans,\n",
    "    contact_fingers=['index', 'middle', 'thumb'],\n",
    "    obj_dof=obj_dof,\n",
    "    obj_joint_dim=1,\n",
    "    optimize_force=params['optimize_force'],\n",
    "    default_dof_pos=env.default_dof_pos[:, :16]\n",
    ")\n",
    "contact_mode_dict = {0: 'pregrasp', 2: 'index', 1: 'thumb_middle', 3: 'turn'}\n",
    "t = 15\n",
    "# with open(data_path / f'constraint_violations.p', 'wb') as f:\n",
    "#     pickle.dump(constraint_violations_all, f)\n"
   ]
  },
  {
   "cell_type": "code",
   "execution_count": 3,
   "metadata": {},
   "outputs": [],
   "source": [
    "def calc_info(c_state, to_eval, info_list, pregrasp_problem, index_regrasp_problem, thumb_and_middle_regrasp_problem, turn_problem, plans_or_inits):\n",
    "    if c_state == 'pregrasp':\n",
    "        # Call _con_eq and _con_ineq to get constraint violation\n",
    "        pregrasp_problem._preprocess(to_eval, projected_diffusion=False)\n",
    "        g, _, _ = pregrasp_problem._con_eq(to_eval[..., :27], compute_grads=False, compute_hess=False, verbose=True, projected_diffusion=False)\n",
    "        h, _, _ = pregrasp_problem._con_ineq(to_eval[..., :27], compute_grads=False, compute_hess=False, verbose=True, projected_diffusion=False)\n",
    "\n",
    "        info = {'g': g, 'h': h, 'c_state': 'pregrasp'}\n",
    "        info_list.append(info)\n",
    "    elif c_state == 'index':\n",
    "        index_regrasp_problem._preprocess(to_eval, projected_diffusion=False)\n",
    "        # Need to rearrange (index, middle, thumb)\n",
    "        if plans_or_inits == 'plans':\n",
    "            inds = torch.cat((torch.arange(27), torch.arange(30, 36)))\n",
    "        else:\n",
    "            inds = torch.arange(33)\n",
    "        g, _, _ = index_regrasp_problem._con_eq(to_eval[..., inds], compute_grads=False, compute_hess=False, verbose=True, projected_diffusion=False)\n",
    "        h, _, _ = index_regrasp_problem._con_ineq(to_eval[..., inds], compute_grads=False, compute_hess=False, verbose=True, projected_diffusion=False)\n",
    "\n",
    "        info = {'g': g, 'h': h, 'c_state': 'index'}\n",
    "        info_list.append(info)\n",
    "    elif c_state == 'thumb_middle':\n",
    "        thumb_and_middle_regrasp_problem._preprocess(to_eval, projected_diffusion=False)\n",
    "        g, _, _ = thumb_and_middle_regrasp_problem._con_eq(to_eval[..., :30], compute_grads=False, compute_hess=False, verbose=True, projected_diffusion=False)\n",
    "        h, _, _ = thumb_and_middle_regrasp_problem._con_ineq(to_eval[..., :30], compute_grads=False, compute_hess=False, verbose=True, projected_diffusion=False)\n",
    "\n",
    "        info = {'g': g, 'h': h, 'c_state': 'thumb_middle'}\n",
    "        info_list.append(info)\n",
    "    elif c_state == 'turn':\n",
    "        turn_problem._preprocess(to_eval, projected_diffusion=False)\n",
    "        g, _, _ = turn_problem._con_eq(to_eval[..., :], compute_grads=False, compute_hess=False, verbose=True, projected_diffusion=False)\n",
    "        h, _, _ = turn_problem._con_ineq(to_eval[..., :], compute_grads=False, compute_hess=False, verbose=True, projected_diffusion=False)\n",
    "\n",
    "        info = {'g': g, 'h': h, 'c_state': 'turn'}\n",
    "        info_list.append(info)\n",
    "    return info_list\n",
    "\n",
    "def gen_constraint_data(plans_or_inits, constraint_violations, path):\n",
    "    for trial in tqdm(range(1, 11)):\n",
    "        info_list = []\n",
    "        with open(path + f'/trial_{trial}/traj_data.p', 'rb') as f:\n",
    "            data = pickle.load(f)\n",
    "        if plans_or_inits == 'plans':\n",
    "            data[t]['plans'] = torch.tensor(data[t]['plans']).to(device=params['device'])\n",
    "            loop_range = data[t]['plans'].shape[0]\n",
    "        elif plans_or_inits == 'optimizer_paths':\n",
    "            loop_range = len(data[t]['optimizer_paths'])\n",
    "        else:\n",
    "            loop_range = len(data[t]['inits'])\n",
    "        print('lr', loop_range)\n",
    "        for i in tqdm(range(loop_range)):\n",
    "            c_state = contact_mode_dict[data[t]['contact_state'][i].sum().item()]\n",
    "\n",
    "            to_eval = data[t][plans_or_inits][i]\n",
    "            if plans_or_inits in {'plans', 'inits'}:\n",
    "                info_list = calc_info(c_state, to_eval, info_list, pregrasp_problem, index_regrasp_problem, thumb_and_middle_regrasp_problem, turn_problem, plans_or_inits)\n",
    "            else:\n",
    "                all_infos = []\n",
    "                for csvto_tstep in tqdm(range(len(data[t]['optimizer_paths'][i]))):\n",
    "                    all_infos = calc_info(c_state, to_eval[csvto_tstep], all_infos, pregrasp_problem, index_regrasp_problem, thumb_and_middle_regrasp_problem, turn_problem, plans_or_inits)\n",
    "                info_list.append(all_infos)\n",
    "        constraint_violations.append(info_list)"
   ]
  },
  {
   "cell_type": "code",
   "execution_count": 4,
   "metadata": {},
   "outputs": [
    {
     "name": "stdout",
     "output_type": "stream",
     "text": [
      "plans\n"
     ]
    },
    {
     "name": "stderr",
     "output_type": "stream",
     "text": [
      "  0%|          | 0/10 [00:00<?, ?it/s]"
     ]
    },
    {
     "name": "stdout",
     "output_type": "stream",
     "text": [
      "lr 11\n"
     ]
    },
    {
     "name": "stderr",
     "output_type": "stream",
     "text": [
      "/home/abhinav/Documents/git_packages/pytorch_kinematics/src/pytorch_kinematics/chain.py:579: UserWarning: Using torch.cross without specifying the dim arg is deprecated.\n",
      "Please either pass the dim explicitly or simply use torch.linalg.cross.\n",
      "The default value of dim will change to agree with that of linalg.cross in a future release. (Triggered internally at ../aten/src/ATen/native/Cross.cpp:62.)\n",
      "  H[:, :3, i, j] = torch.cross(J[:, 3:, j], J[:, :3, i])\n",
      "100%|██████████| 11/11 [00:02<00:00,  4.83it/s]\n",
      " 10%|█         | 1/10 [00:02<00:21,  2.34s/it]"
     ]
    },
    {
     "name": "stdout",
     "output_type": "stream",
     "text": [
      "lr 11\n"
     ]
    },
    {
     "name": "stderr",
     "output_type": "stream",
     "text": [
      "100%|██████████| 11/11 [00:02<00:00,  4.78it/s]\n",
      " 20%|██        | 2/10 [00:04<00:18,  2.35s/it]"
     ]
    },
    {
     "name": "stdout",
     "output_type": "stream",
     "text": [
      "lr 11\n"
     ]
    },
    {
     "name": "stderr",
     "output_type": "stream",
     "text": [
      "100%|██████████| 11/11 [00:02<00:00,  4.88it/s]\n",
      " 30%|███       | 3/10 [00:07<00:16,  2.33s/it]"
     ]
    },
    {
     "name": "stdout",
     "output_type": "stream",
     "text": [
      "lr 11\n"
     ]
    },
    {
     "name": "stderr",
     "output_type": "stream",
     "text": [
      "100%|██████████| 11/11 [00:02<00:00,  4.89it/s]\n",
      " 40%|████      | 4/10 [00:09<00:14,  2.33s/it]"
     ]
    },
    {
     "name": "stdout",
     "output_type": "stream",
     "text": [
      "lr 11\n"
     ]
    },
    {
     "name": "stderr",
     "output_type": "stream",
     "text": [
      "100%|██████████| 11/11 [00:02<00:00,  4.80it/s]\n",
      " 50%|█████     | 5/10 [00:11<00:11,  2.34s/it]"
     ]
    },
    {
     "name": "stdout",
     "output_type": "stream",
     "text": [
      "lr 11\n"
     ]
    },
    {
     "name": "stderr",
     "output_type": "stream",
     "text": [
      "100%|██████████| 11/11 [00:02<00:00,  4.88it/s]\n",
      " 60%|██████    | 6/10 [00:14<00:09,  2.33s/it]"
     ]
    },
    {
     "name": "stdout",
     "output_type": "stream",
     "text": [
      "lr 11\n"
     ]
    },
    {
     "name": "stderr",
     "output_type": "stream",
     "text": [
      "100%|██████████| 11/11 [00:02<00:00,  4.86it/s]\n",
      " 70%|███████   | 7/10 [00:16<00:07,  2.33s/it]"
     ]
    },
    {
     "name": "stdout",
     "output_type": "stream",
     "text": [
      "lr 11\n"
     ]
    },
    {
     "name": "stderr",
     "output_type": "stream",
     "text": [
      "100%|██████████| 11/11 [00:02<00:00,  4.81it/s]\n",
      " 80%|████████  | 8/10 [00:18<00:04,  2.34s/it]"
     ]
    },
    {
     "name": "stdout",
     "output_type": "stream",
     "text": [
      "lr 11\n"
     ]
    },
    {
     "name": "stderr",
     "output_type": "stream",
     "text": [
      "100%|██████████| 11/11 [00:02<00:00,  4.79it/s]\n",
      " 90%|█████████ | 9/10 [00:21<00:02,  2.35s/it]"
     ]
    },
    {
     "name": "stdout",
     "output_type": "stream",
     "text": [
      "lr 11\n"
     ]
    },
    {
     "name": "stderr",
     "output_type": "stream",
     "text": [
      "100%|██████████| 11/11 [00:02<00:00,  4.83it/s]\n",
      "100%|██████████| 10/10 [00:23<00:00,  2.34s/it]\n"
     ]
    },
    {
     "name": "stdout",
     "output_type": "stream",
     "text": [
      "inits\n"
     ]
    },
    {
     "name": "stderr",
     "output_type": "stream",
     "text": [
      "  0%|          | 0/10 [00:00<?, ?it/s]"
     ]
    },
    {
     "name": "stdout",
     "output_type": "stream",
     "text": [
      "lr 11\n"
     ]
    },
    {
     "name": "stderr",
     "output_type": "stream",
     "text": [
      "100%|██████████| 11/11 [00:02<00:00,  4.67it/s]\n",
      " 10%|█         | 1/10 [00:02<00:21,  2.42s/it]"
     ]
    },
    {
     "name": "stdout",
     "output_type": "stream",
     "text": [
      "lr 11\n"
     ]
    },
    {
     "name": "stderr",
     "output_type": "stream",
     "text": [
      "100%|██████████| 11/11 [00:02<00:00,  4.67it/s]\n",
      " 20%|██        | 2/10 [00:04<00:19,  2.41s/it]"
     ]
    },
    {
     "name": "stdout",
     "output_type": "stream",
     "text": [
      "lr 11\n"
     ]
    },
    {
     "name": "stderr",
     "output_type": "stream",
     "text": [
      "100%|██████████| 11/11 [00:02<00:00,  4.75it/s]\n",
      " 30%|███       | 3/10 [00:07<00:16,  2.39s/it]"
     ]
    },
    {
     "name": "stdout",
     "output_type": "stream",
     "text": [
      "lr 11\n"
     ]
    },
    {
     "name": "stderr",
     "output_type": "stream",
     "text": [
      "100%|██████████| 11/11 [00:02<00:00,  4.83it/s]\n",
      " 40%|████      | 4/10 [00:09<00:14,  2.37s/it]"
     ]
    },
    {
     "name": "stdout",
     "output_type": "stream",
     "text": [
      "lr 11\n"
     ]
    },
    {
     "name": "stderr",
     "output_type": "stream",
     "text": [
      "100%|██████████| 11/11 [00:02<00:00,  4.80it/s]\n",
      " 50%|█████     | 5/10 [00:11<00:11,  2.36s/it]"
     ]
    },
    {
     "name": "stdout",
     "output_type": "stream",
     "text": [
      "lr 11\n"
     ]
    },
    {
     "name": "stderr",
     "output_type": "stream",
     "text": [
      "100%|██████████| 11/11 [00:02<00:00,  4.92it/s]\n",
      " 60%|██████    | 6/10 [00:14<00:09,  2.34s/it]"
     ]
    },
    {
     "name": "stdout",
     "output_type": "stream",
     "text": [
      "lr 11\n"
     ]
    },
    {
     "name": "stderr",
     "output_type": "stream",
     "text": [
      "100%|██████████| 11/11 [00:02<00:00,  4.87it/s]\n",
      " 70%|███████   | 7/10 [00:16<00:06,  2.33s/it]"
     ]
    },
    {
     "name": "stdout",
     "output_type": "stream",
     "text": [
      "lr 11\n"
     ]
    },
    {
     "name": "stderr",
     "output_type": "stream",
     "text": [
      "100%|██████████| 11/11 [00:02<00:00,  4.91it/s]\n",
      " 80%|████████  | 8/10 [00:18<00:04,  2.32s/it]"
     ]
    },
    {
     "name": "stdout",
     "output_type": "stream",
     "text": [
      "lr 11\n"
     ]
    },
    {
     "name": "stderr",
     "output_type": "stream",
     "text": [
      "100%|██████████| 11/11 [00:02<00:00,  4.84it/s]\n",
      " 90%|█████████ | 9/10 [00:21<00:02,  2.33s/it]"
     ]
    },
    {
     "name": "stdout",
     "output_type": "stream",
     "text": [
      "lr 11\n"
     ]
    },
    {
     "name": "stderr",
     "output_type": "stream",
     "text": [
      "100%|██████████| 11/11 [00:02<00:00,  5.00it/s]\n",
      "100%|██████████| 10/10 [00:23<00:00,  2.34s/it]\n",
      "/home/abhinav/diffusion/lib/python3.8/site-packages/numpy/core/fromnumeric.py:3464: RuntimeWarning: Mean of empty slice.\n",
      "  return _methods._mean(a, axis=axis, dtype=dtype,\n",
      "/home/abhinav/diffusion/lib/python3.8/site-packages/numpy/core/_methods.py:192: RuntimeWarning: invalid value encountered in scalar divide\n",
      "  ret = ret.dtype.type(ret / rcount)\n",
      "/home/abhinav/diffusion/lib/python3.8/site-packages/numpy/core/_methods.py:269: RuntimeWarning: Degrees of freedom <= 0 for slice\n",
      "  ret = _var(a, axis=axis, dtype=dtype, out=out, ddof=ddof,\n",
      "/home/abhinav/diffusion/lib/python3.8/site-packages/numpy/core/_methods.py:226: RuntimeWarning: invalid value encountered in divide\n",
      "  arrmean = um.true_divide(arrmean, div, out=arrmean,\n",
      "/home/abhinav/diffusion/lib/python3.8/site-packages/numpy/core/_methods.py:261: RuntimeWarning: invalid value encountered in scalar divide\n",
      "  ret = ret.dtype.type(ret / rcount)\n"
     ]
    },
    {
     "name": "stdout",
     "output_type": "stream",
     "text": [
      "plans\n"
     ]
    },
    {
     "name": "stderr",
     "output_type": "stream",
     "text": [
      "  0%|          | 0/10 [00:00<?, ?it/s]"
     ]
    },
    {
     "name": "stdout",
     "output_type": "stream",
     "text": [
      "lr 11\n"
     ]
    },
    {
     "name": "stderr",
     "output_type": "stream",
     "text": [
      "100%|██████████| 11/11 [00:02<00:00,  4.95it/s]\n",
      " 10%|█         | 1/10 [00:02<00:20,  2.28s/it]"
     ]
    },
    {
     "name": "stdout",
     "output_type": "stream",
     "text": [
      "lr 11\n"
     ]
    },
    {
     "name": "stderr",
     "output_type": "stream",
     "text": [
      "100%|██████████| 11/11 [00:02<00:00,  4.94it/s]\n",
      " 20%|██        | 2/10 [00:04<00:18,  2.28s/it]"
     ]
    },
    {
     "name": "stdout",
     "output_type": "stream",
     "text": [
      "lr 11\n"
     ]
    },
    {
     "name": "stderr",
     "output_type": "stream",
     "text": [
      "100%|██████████| 11/11 [00:02<00:00,  4.69it/s]\n",
      " 30%|███       | 3/10 [00:06<00:16,  2.34s/it]"
     ]
    },
    {
     "name": "stdout",
     "output_type": "stream",
     "text": [
      "lr 11\n"
     ]
    },
    {
     "name": "stderr",
     "output_type": "stream",
     "text": [
      "100%|██████████| 11/11 [00:02<00:00,  4.38it/s]\n",
      " 40%|████      | 4/10 [00:09<00:14,  2.43s/it]"
     ]
    },
    {
     "name": "stdout",
     "output_type": "stream",
     "text": [
      "lr 11\n"
     ]
    },
    {
     "name": "stderr",
     "output_type": "stream",
     "text": [
      "100%|██████████| 11/11 [00:02<00:00,  4.34it/s]\n",
      " 50%|█████     | 5/10 [00:12<00:12,  2.48s/it]"
     ]
    },
    {
     "name": "stdout",
     "output_type": "stream",
     "text": [
      "lr 11\n"
     ]
    },
    {
     "name": "stderr",
     "output_type": "stream",
     "text": [
      "100%|██████████| 11/11 [00:02<00:00,  4.40it/s]\n",
      " 60%|██████    | 6/10 [00:14<00:10,  2.51s/it]"
     ]
    },
    {
     "name": "stdout",
     "output_type": "stream",
     "text": [
      "lr 11\n"
     ]
    },
    {
     "name": "stderr",
     "output_type": "stream",
     "text": [
      "100%|██████████| 11/11 [00:02<00:00,  4.43it/s]\n",
      " 70%|███████   | 7/10 [00:17<00:07,  2.51s/it]"
     ]
    },
    {
     "name": "stdout",
     "output_type": "stream",
     "text": [
      "lr 11\n"
     ]
    },
    {
     "name": "stderr",
     "output_type": "stream",
     "text": [
      "100%|██████████| 11/11 [00:02<00:00,  4.43it/s]\n",
      " 80%|████████  | 8/10 [00:19<00:05,  2.52s/it]"
     ]
    },
    {
     "name": "stdout",
     "output_type": "stream",
     "text": [
      "lr 11\n"
     ]
    },
    {
     "name": "stderr",
     "output_type": "stream",
     "text": [
      "100%|██████████| 11/11 [00:02<00:00,  4.54it/s]\n",
      " 90%|█████████ | 9/10 [00:22<00:02,  2.51s/it]"
     ]
    },
    {
     "name": "stdout",
     "output_type": "stream",
     "text": [
      "lr 11\n"
     ]
    },
    {
     "name": "stderr",
     "output_type": "stream",
     "text": [
      "100%|██████████| 11/11 [00:02<00:00,  4.32it/s]\n",
      "100%|██████████| 10/10 [00:24<00:00,  2.48s/it]\n"
     ]
    },
    {
     "name": "stdout",
     "output_type": "stream",
     "text": [
      "inits\n"
     ]
    },
    {
     "name": "stderr",
     "output_type": "stream",
     "text": [
      "  0%|          | 0/10 [00:00<?, ?it/s]"
     ]
    },
    {
     "name": "stdout",
     "output_type": "stream",
     "text": [
      "lr 11\n"
     ]
    },
    {
     "name": "stderr",
     "output_type": "stream",
     "text": [
      "100%|██████████| 11/11 [00:02<00:00,  4.47it/s]\n",
      " 10%|█         | 1/10 [00:02<00:22,  2.53s/it]"
     ]
    },
    {
     "name": "stdout",
     "output_type": "stream",
     "text": [
      "lr 11\n"
     ]
    },
    {
     "name": "stderr",
     "output_type": "stream",
     "text": [
      "100%|██████████| 11/11 [00:02<00:00,  4.57it/s]\n",
      " 20%|██        | 2/10 [00:04<00:19,  2.49s/it]"
     ]
    },
    {
     "name": "stdout",
     "output_type": "stream",
     "text": [
      "lr 11\n"
     ]
    },
    {
     "name": "stderr",
     "output_type": "stream",
     "text": [
      "100%|██████████| 11/11 [00:02<00:00,  4.58it/s]\n",
      " 30%|███       | 3/10 [00:07<00:17,  2.50s/it]"
     ]
    },
    {
     "name": "stdout",
     "output_type": "stream",
     "text": [
      "lr 11\n"
     ]
    },
    {
     "name": "stderr",
     "output_type": "stream",
     "text": [
      "100%|██████████| 11/11 [00:02<00:00,  4.38it/s]\n",
      " 40%|████      | 4/10 [00:10<00:15,  2.52s/it]"
     ]
    },
    {
     "name": "stdout",
     "output_type": "stream",
     "text": [
      "lr 11\n"
     ]
    },
    {
     "name": "stderr",
     "output_type": "stream",
     "text": [
      "100%|██████████| 11/11 [00:02<00:00,  4.49it/s]\n",
      " 50%|█████     | 5/10 [00:12<00:12,  2.51s/it]"
     ]
    },
    {
     "name": "stdout",
     "output_type": "stream",
     "text": [
      "lr 11\n"
     ]
    },
    {
     "name": "stderr",
     "output_type": "stream",
     "text": [
      "100%|██████████| 11/11 [00:02<00:00,  4.29it/s]\n",
      " 60%|██████    | 6/10 [00:15<00:10,  2.55s/it]"
     ]
    },
    {
     "name": "stdout",
     "output_type": "stream",
     "text": [
      "lr 11\n"
     ]
    },
    {
     "name": "stderr",
     "output_type": "stream",
     "text": [
      "100%|██████████| 11/11 [00:02<00:00,  4.43it/s]\n",
      " 70%|███████   | 7/10 [00:17<00:07,  2.54s/it]"
     ]
    },
    {
     "name": "stdout",
     "output_type": "stream",
     "text": [
      "lr 11\n"
     ]
    },
    {
     "name": "stderr",
     "output_type": "stream",
     "text": [
      "100%|██████████| 11/11 [00:02<00:00,  4.70it/s]\n",
      " 80%|████████  | 8/10 [00:20<00:04,  2.50s/it]"
     ]
    },
    {
     "name": "stdout",
     "output_type": "stream",
     "text": [
      "lr 11\n"
     ]
    },
    {
     "name": "stderr",
     "output_type": "stream",
     "text": [
      "100%|██████████| 11/11 [00:02<00:00,  4.49it/s]\n",
      " 90%|█████████ | 9/10 [00:22<00:02,  2.52s/it]"
     ]
    },
    {
     "name": "stdout",
     "output_type": "stream",
     "text": [
      "lr 11\n"
     ]
    },
    {
     "name": "stderr",
     "output_type": "stream",
     "text": [
      "100%|██████████| 11/11 [00:02<00:00,  4.33it/s]\n",
      "100%|██████████| 10/10 [00:25<00:00,  2.53s/it]\n"
     ]
    },
    {
     "name": "stdout",
     "output_type": "stream",
     "text": [
      "plans\n"
     ]
    },
    {
     "name": "stderr",
     "output_type": "stream",
     "text": [
      "  0%|          | 0/10 [00:00<?, ?it/s]"
     ]
    },
    {
     "name": "stdout",
     "output_type": "stream",
     "text": [
      "lr 11\n"
     ]
    },
    {
     "name": "stderr",
     "output_type": "stream",
     "text": [
      "100%|██████████| 11/11 [00:02<00:00,  4.40it/s]\n",
      " 10%|█         | 1/10 [00:02<00:22,  2.54s/it]"
     ]
    },
    {
     "name": "stdout",
     "output_type": "stream",
     "text": [
      "lr 11\n"
     ]
    },
    {
     "name": "stderr",
     "output_type": "stream",
     "text": [
      "100%|██████████| 11/11 [00:02<00:00,  4.39it/s]\n",
      " 20%|██        | 2/10 [00:05<00:20,  2.54s/it]"
     ]
    },
    {
     "name": "stdout",
     "output_type": "stream",
     "text": [
      "lr 11\n"
     ]
    },
    {
     "name": "stderr",
     "output_type": "stream",
     "text": [
      "100%|██████████| 11/11 [00:02<00:00,  4.43it/s]\n",
      " 30%|███       | 3/10 [00:07<00:17,  2.54s/it]"
     ]
    },
    {
     "name": "stdout",
     "output_type": "stream",
     "text": [
      "lr 11\n"
     ]
    },
    {
     "name": "stderr",
     "output_type": "stream",
     "text": [
      "100%|██████████| 11/11 [00:02<00:00,  4.39it/s]\n",
      " 40%|████      | 4/10 [00:10<00:15,  2.59s/it]"
     ]
    },
    {
     "name": "stdout",
     "output_type": "stream",
     "text": [
      "lr 11\n"
     ]
    },
    {
     "name": "stderr",
     "output_type": "stream",
     "text": [
      "100%|██████████| 11/11 [00:02<00:00,  4.46it/s]\n",
      " 50%|█████     | 5/10 [00:12<00:12,  2.56s/it]"
     ]
    },
    {
     "name": "stdout",
     "output_type": "stream",
     "text": [
      "lr 11\n"
     ]
    },
    {
     "name": "stderr",
     "output_type": "stream",
     "text": [
      "100%|██████████| 11/11 [00:02<00:00,  4.61it/s]\n",
      " 60%|██████    | 6/10 [00:15<00:10,  2.52s/it]"
     ]
    },
    {
     "name": "stdout",
     "output_type": "stream",
     "text": [
      "lr 11\n"
     ]
    },
    {
     "name": "stderr",
     "output_type": "stream",
     "text": [
      "100%|██████████| 11/11 [00:02<00:00,  4.60it/s]\n",
      " 70%|███████   | 7/10 [00:17<00:07,  2.52s/it]"
     ]
    },
    {
     "name": "stdout",
     "output_type": "stream",
     "text": [
      "lr 11\n"
     ]
    },
    {
     "name": "stderr",
     "output_type": "stream",
     "text": [
      "100%|██████████| 11/11 [00:02<00:00,  4.24it/s]\n",
      " 80%|████████  | 8/10 [00:20<00:05,  2.56s/it]"
     ]
    },
    {
     "name": "stdout",
     "output_type": "stream",
     "text": [
      "lr 11\n"
     ]
    },
    {
     "name": "stderr",
     "output_type": "stream",
     "text": [
      "100%|██████████| 11/11 [00:02<00:00,  4.18it/s]\n",
      " 90%|█████████ | 9/10 [00:23<00:02,  2.62s/it]"
     ]
    },
    {
     "name": "stdout",
     "output_type": "stream",
     "text": [
      "lr 11\n"
     ]
    },
    {
     "name": "stderr",
     "output_type": "stream",
     "text": [
      "100%|██████████| 11/11 [00:02<00:00,  4.55it/s]\n",
      "100%|██████████| 10/10 [00:25<00:00,  2.56s/it]\n"
     ]
    },
    {
     "name": "stdout",
     "output_type": "stream",
     "text": [
      "inits\n"
     ]
    },
    {
     "name": "stderr",
     "output_type": "stream",
     "text": [
      "  0%|          | 0/10 [00:00<?, ?it/s]"
     ]
    },
    {
     "name": "stdout",
     "output_type": "stream",
     "text": [
      "lr 11\n"
     ]
    },
    {
     "name": "stderr",
     "output_type": "stream",
     "text": [
      "100%|██████████| 11/11 [00:02<00:00,  4.48it/s]\n",
      " 10%|█         | 1/10 [00:02<00:22,  2.50s/it]"
     ]
    },
    {
     "name": "stdout",
     "output_type": "stream",
     "text": [
      "lr 11\n"
     ]
    },
    {
     "name": "stderr",
     "output_type": "stream",
     "text": [
      "100%|██████████| 11/11 [00:02<00:00,  4.46it/s]\n",
      " 20%|██        | 2/10 [00:05<00:20,  2.50s/it]"
     ]
    },
    {
     "name": "stdout",
     "output_type": "stream",
     "text": [
      "lr 11\n"
     ]
    },
    {
     "name": "stderr",
     "output_type": "stream",
     "text": [
      "100%|██████████| 11/11 [00:02<00:00,  4.52it/s]\n",
      " 30%|███       | 3/10 [00:07<00:17,  2.49s/it]"
     ]
    },
    {
     "name": "stdout",
     "output_type": "stream",
     "text": [
      "lr 11\n"
     ]
    },
    {
     "name": "stderr",
     "output_type": "stream",
     "text": [
      "100%|██████████| 11/11 [00:02<00:00,  4.66it/s]\n",
      " 40%|████      | 4/10 [00:09<00:14,  2.46s/it]"
     ]
    },
    {
     "name": "stdout",
     "output_type": "stream",
     "text": [
      "lr 11\n"
     ]
    },
    {
     "name": "stderr",
     "output_type": "stream",
     "text": [
      "100%|██████████| 11/11 [00:02<00:00,  4.82it/s]\n",
      " 50%|█████     | 5/10 [00:12<00:12,  2.42s/it]"
     ]
    },
    {
     "name": "stdout",
     "output_type": "stream",
     "text": [
      "lr 11\n"
     ]
    },
    {
     "name": "stderr",
     "output_type": "stream",
     "text": [
      "100%|██████████| 11/11 [00:02<00:00,  4.04it/s]\n",
      " 60%|██████    | 6/10 [00:15<00:10,  2.54s/it]"
     ]
    },
    {
     "name": "stdout",
     "output_type": "stream",
     "text": [
      "lr 11\n"
     ]
    },
    {
     "name": "stderr",
     "output_type": "stream",
     "text": [
      "100%|██████████| 11/11 [00:02<00:00,  4.77it/s]\n",
      " 70%|███████   | 7/10 [00:17<00:07,  2.48s/it]"
     ]
    },
    {
     "name": "stdout",
     "output_type": "stream",
     "text": [
      "lr 11\n"
     ]
    },
    {
     "name": "stderr",
     "output_type": "stream",
     "text": [
      "100%|██████████| 11/11 [00:02<00:00,  4.75it/s]\n",
      " 80%|████████  | 8/10 [00:19<00:04,  2.44s/it]"
     ]
    },
    {
     "name": "stdout",
     "output_type": "stream",
     "text": [
      "lr 11\n"
     ]
    },
    {
     "name": "stderr",
     "output_type": "stream",
     "text": [
      "100%|██████████| 11/11 [00:02<00:00,  4.84it/s]\n",
      " 90%|█████████ | 9/10 [00:22<00:02,  2.40s/it]"
     ]
    },
    {
     "name": "stdout",
     "output_type": "stream",
     "text": [
      "lr 11\n"
     ]
    },
    {
     "name": "stderr",
     "output_type": "stream",
     "text": [
      "100%|██████████| 11/11 [00:02<00:00,  4.75it/s]\n",
      "100%|██████████| 10/10 [00:24<00:00,  2.44s/it]\n"
     ]
    }
   ],
   "source": [
    "def get_traj(name):\n",
    "    path = f'/home/abhinav/Documents/ccai/data/experiments/{name}/csvgd'\n",
    "\n",
    "    all_data = []\n",
    "    all_x = []\n",
    "    # all_d2goal = []\n",
    "    for trial_num in range(1, 11):\n",
    "        # print(path + f'/trial_{trial_num}/trajectory.npz')\n",
    "        # with np.load(path + f'/trial_{trial_num}/trajectory.npz') as data:\n",
    "        #     print(data.keys)\n",
    "        #     x = data['x']\n",
    "        #     # d2goal = data['d2goal']\n",
    "        #     all_x.append(x)\n",
    "        \n",
    "        with open(path + f'/trial_{trial_num}/traj_data.p', 'rb') as f:\n",
    "            traj_data = pickle.load(f)\n",
    "            all_data.append(traj_data)\n",
    "        # all_d2goal.append(d2goal)\n",
    "    constraint_violations_all = {\n",
    "        # 'optimizer_paths': [],\n",
    "        'plans': [],\n",
    "        'inits': [],\n",
    "    }\n",
    "    for plans_or_inits in constraint_violations_all.keys():\n",
    "        print(plans_or_inits)\n",
    "        gen_constraint_data(plans_or_inits, constraint_violations_all[plans_or_inits], path)\n",
    "    # Take the list of dicts and turn it into a dict of lists\n",
    "    all_data = {k: [d[k] for d in all_data] for k in all_data[0]}\n",
    "    all_data['violation'] = constraint_violations_all\n",
    "    return all_x, all_data#, all_d2goal\n",
    "data = {}\n",
    "\n",
    "for key, name in [('rand_init_csvto', 'allegro_screwdriver_random_init_no_guidance'), ('diff_init_csvto', 'allegro_screwdriver_diffusion_init_no_guidance'), ('diff_init', 'allegro_screwdriver_diffusion_init_no_guidance_no_csvto')]:\n",
    "    data[key] = {}\n",
    "    all_x, all_data = get_traj(name)\n",
    "    data[key]['x'] = {\n",
    "        'raw': all_x,\n",
    "        'mean': np.mean(all_x, axis=0),\n",
    "        'std': np.std(all_x, axis=0),\n",
    "    }\n",
    "    data[key] = {**data[key], **all_data}\n",
    "    # data[key]['d2goal'] = {\n",
    "    #     'raw': all_d2goal,\n",
    "    #     'mean': np.mean(all_d2goal, axis=0),\n",
    "    #     'std': np.std(all_d2goal, axis=0),\n",
    "    # }\n",
    "\n",
    "# data['proj_diff_init'] = get_data('allegro_screwdriver_projected_diffusion_init_no_guidance_no_csvto')\n",
    "# data['proj_diff_init_csvto'] = get_data('allegro_screwdriver_projected_diffusion_init_no_guidance')"
   ]
  },
  {
   "cell_type": "code",
   "execution_count": 11,
   "metadata": {},
   "outputs": [],
   "source": [
    "def gen_plot(constraint_violations_all, key):\n",
    "    plan_cv = constraint_violations_all[key]\n",
    "\n",
    "    keys = ['pregrasp', 'index', 'thumb_middle', 'turn']\n",
    "    # violation_by_mode_g = {\n",
    "    #     key: [] for key in keys\n",
    "    # }\n",
    "\n",
    "    # violation_by_mode_h = {\n",
    "    #     key: [] for key in keys\n",
    "    # }\n",
    "    g_all = []\n",
    "    h_all = []\n",
    "    for trial_ind in range(len(plan_cv)):\n",
    "        print([i['c_state'] for i in plan_cv[trial_ind]])\n",
    "        g_trial_ind = []\n",
    "        h_trial_ind = []\n",
    "        for contact_mode_seq in plan_cv[trial_ind]:\n",
    "            g = torch.abs(contact_mode_seq['g']).mean().cpu().item()\n",
    "            h = torch.relu(contact_mode_seq['h']).mean().cpu().item()\n",
    "            g_trial_ind.append(g)\n",
    "            h_trial_ind.append(h)\n",
    "        g_all.append(g_trial_ind)\n",
    "        h_all.append(h_trial_ind)\n",
    "    g_all = np.stack(g_all, axis=0)\n",
    "    h_all = np.stack(h_all, axis=0)\n",
    "    g_all_mean = g_all.mean(axis=0)\n",
    "    h_all_mean = h_all.mean(axis=0)\n",
    "    g_all_std = g_all.std(axis=0)\n",
    "    h_all_std = h_all.std(axis=0)\n",
    "            # mode = contact_mode_seq['c_state']\n",
    "\n",
    "            # violation_by_mode_g[mode].append(contact_mode_seq['g'])\n",
    "            # violation_by_mode_h[mode].append(contact_mode_seq['h'])\n",
    "\n",
    "    fig, ax = plt.subplots(1, 1, figsize=(12, 12))\n",
    "\n",
    "    # plot g_all_mean with error bars\n",
    "    ax.plot(g_all_mean, label='g_all_mean')\n",
    "    ax.fill_between(np.arange(g_all_mean.shape[0]), g_all_mean - g_all_std, g_all_mean + g_all_std, alpha=0.5)\n",
    "    ax.plot(h_all_mean, label='h_all_mean')\n",
    "    ax.fill_between(np.arange(h_all_mean.shape[0]), h_all_mean - h_all_std, h_all_mean + h_all_std, alpha=0.5)\n",
    "    ax.legend()\n",
    "\n",
    "    plt.title(f'Constraint Violation: {key}')\n",
    "    plt.savefig(f'/home/abhinav/Pictures/constraint_violation_analysis/{random_or_diffusion}_init_{key}.png')\n",
    "\n",
    "    # 4 columns, 2 rows subplots\n",
    "    # fig, axs = plt.subplots(2, 4, figsize=(12, 12))\n",
    "\n",
    "    # for ind in range(4):\n",
    "    #     key = keys[ind]\n",
    "    #     print(violation_by_mode_g[key])\n",
    "    #     this_mode_g = torch.abs(violation_by_mode_g[key][t])\n",
    "    #     print(this_mode_g.shape)\n",
    "\n",
    "    #     this_mode_h = torch.relu(violation_by_mode_h[key][t])\n",
    "    #     print(this_mode_h.shape)"
   ]
  },
  {
   "cell_type": "code",
   "execution_count": null,
   "metadata": {},
   "outputs": [],
   "source": [
    "['inits']\n",
    "gen_plot(data['rand_init_csvto']['violation'], 'inits')"
   ]
  }
 ],
 "metadata": {
  "kernelspec": {
   "display_name": "diffusion",
   "language": "python",
   "name": "python3"
  },
  "language_info": {
   "codemirror_mode": {
    "name": "ipython",
    "version": 3
   },
   "file_extension": ".py",
   "mimetype": "text/x-python",
   "name": "python",
   "nbconvert_exporter": "python",
   "pygments_lexer": "ipython3",
   "version": "3.8.10"
  }
 },
 "nbformat": 4,
 "nbformat_minor": 2
}
